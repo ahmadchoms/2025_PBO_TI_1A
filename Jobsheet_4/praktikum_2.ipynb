{
 "cells": [
  {
   "cell_type": "code",
   "execution_count": 5,
   "id": "5820e02f",
   "metadata": {},
   "outputs": [
    {
     "name": "stdout",
     "output_type": "stream",
     "text": [
      "--------------------\n",
      "Halo, nama saya Pak Anton, usia saya 45 tahun.\n",
      "\n",
      "==============================\n",
      "\n",
      "Memanggil init Student untuk Dewi\n",
      "Inisialisasi atribut Student selesai untuk Dewi\n",
      "--------------------\n",
      "Halo, nama saya Dewi, usia saya 20 tahun.\n",
      "Saya adalah mahasiswa dengan ID MHS001, jurusan Teknik Komputer.\n",
      "ID Mahasiswa : MHS001\n",
      "Jurusan : Teknik Komputer\n",
      "\n",
      "Usia mahasiswa Dewi: 20\n"
     ]
    }
   ],
   "source": [
    "class Person:\n",
    "    def __init__(self, nama, usia):\n",
    "        self.nama = nama\n",
    "        self.usia = usia\n",
    "\n",
    "    def perkenalkan_diri(self):\n",
    "        print(f\"Halo, nama saya {self.nama}, usia saya {self.usia} tahun.\")\n",
    "\n",
    "class Student(Person):\n",
    "    def __init__(self, nama, usia, student_id, jurusan):\n",
    "        print(f\"Memanggil init Student untuk {nama}\")\n",
    "        super().__init__(nama, usia)\n",
    "        self.student_id = student_id\n",
    "        self.jurusan = jurusan\n",
    "        print(f\"Inisialisasi atribut Student selesai untuk {nama}\")\n",
    "\n",
    "    def info_akademik(self):\n",
    "        print(f\"ID Mahasiswa : {self.student_id}\")\n",
    "        print(f\"Jurusan : {self.jurusan}\")\n",
    "    \n",
    "    def perkenalkan_diri(self):\n",
    "        super().perkenalkan_diri()\n",
    "        print(f\"Saya adalah mahasiswa dengan ID {self.student_id}, jurusan {self.jurusan}.\")\n",
    "\n",
    "if __name__ == \"__main__\":\n",
    "    dosen = Person(\"Pak Anton\", 45)\n",
    "    print(\"-\" * 20)\n",
    "    dosen.perkenalkan_diri()\n",
    "    print(\"\\n\" + \"=\" * 30 + \"\\n\")\n",
    "\n",
    "    mahasiswa = Student(\"Dewi\", 20, \"MHS001\", \"Teknik Komputer\")\n",
    "    print(\"-\" * 20)\n",
    "    mahasiswa.perkenalkan_diri()\n",
    "    mahasiswa.info_akademik()\n",
    "    print(f\"\\nUsia mahasiswa {mahasiswa.nama}: {mahasiswa.usia}\")"
   ]
  }
 ],
 "metadata": {
  "kernelspec": {
   "display_name": "base",
   "language": "python",
   "name": "python3"
  },
  "language_info": {
   "codemirror_mode": {
    "name": "ipython",
    "version": 3
   },
   "file_extension": ".py",
   "mimetype": "text/x-python",
   "name": "python",
   "nbconvert_exporter": "python",
   "pygments_lexer": "ipython3",
   "version": "3.12.7"
  }
 },
 "nbformat": 4,
 "nbformat_minor": 5
}
