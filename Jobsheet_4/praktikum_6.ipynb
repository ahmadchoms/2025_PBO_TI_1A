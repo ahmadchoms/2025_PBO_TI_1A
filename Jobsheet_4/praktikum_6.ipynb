{
 "cells": [
  {
   "cell_type": "code",
   "execution_count": 2,
   "id": "5d8ed32b",
   "metadata": {},
   "outputs": [
    {
     "name": "stdout",
     "output_type": "stream",
     "text": [
      "\n",
      "Memproses objek: <class '__main__.PersegiPanjang'>\n",
      "Ini adalah bentuk: Persegi Panjang.\n",
      "Objek ini adalah instance dari BentukGeometri (atau turunannya).\n",
      "-> Objek ini juga instance dari PersegiPanjang.\n",
      "\n",
      "Memproses objek: <class '__main__.Segitiga'>\n",
      "Ini adalah bentuk: Segitiga.\n",
      "Objek ini adalah instance dari BentukGeometri (atau turunannya).\n",
      "-> Objek ini juga instance dari Segitiga.\n",
      "\n",
      "Memproses objek: <class '__main__.BentukGeometri'>\n",
      "Ini adalah bentuk: Lingkaran.\n",
      "Objek ini adalah instance dari BentukGeometri (atau turunannya).\n",
      "\n",
      "Memproses objek: <class 'str'>\n",
      "Objek ini BUKAN instance dari BentukGeometri.\n",
      "Objek ini adalah string.\n"
     ]
    }
   ],
   "source": [
    "class BentukGeometri:\n",
    "    def __init__(self, nama_bentuk):\n",
    "        self.nama = nama_bentuk\n",
    "\n",
    "    def tampilkan_info(self):\n",
    "        print(f\"Ini adalah bentuk: {self.nama}.\")\n",
    "\n",
    "    def hitung_luas(self):\n",
    "        print(f\"Luas {self.nama} tidak dapat dihitung (generik).\")\n",
    "\n",
    "class PersegiPanjang(BentukGeometri):\n",
    "    def __init__(self, panjang, lebar):\n",
    "        super().__init__(\"Persegi Panjang\")\n",
    "        self.panjang = panjang\n",
    "        self.lebar = lebar\n",
    "\n",
    "    def hitung_luas(self):\n",
    "        luas = self.panjang * self.lebar\n",
    "        print(f\"Luas {self.nama}: {luas}\")\n",
    "\n",
    "class Segitiga(BentukGeometri):\n",
    "    def __init__(self, alas, tinggi):\n",
    "        super().__init__(\"Segitiga\")\n",
    "        self.alas = alas\n",
    "        self.tinggi = tinggi\n",
    "\n",
    "    def hitung_luas(self):\n",
    "        luas = 0.5 * self.alas * self.tinggi\n",
    "        print(f\"Luas {self.nama}: {luas}\")\n",
    "\n",
    "def proses_bentuk(bentuk):\n",
    "    print(f\"\\nMemproses objek: {type(bentuk)}\")\n",
    "\n",
    "    if isinstance(bentuk, BentukGeometri):\n",
    "        bentuk.tampilkan_info()\n",
    "        print(\"Objek ini adalah instance dari BentukGeometri (atau turunannya).\")\n",
    "\n",
    "        if isinstance(bentuk, PersegiPanjang):\n",
    "            print(\"-> Objek ini juga instance dari PersegiPanjang.\")\n",
    "        elif isinstance(bentuk, Segitiga):\n",
    "            print(\"-> Objek ini juga instance dari Segitiga.\")\n",
    "    else:\n",
    "        print(\"Objek ini BUKAN instance dari BentukGeometri.\")\n",
    "\n",
    "    if isinstance(bentuk, str):\n",
    "        print(\"Objek ini adalah string.\")\n",
    "\n",
    "if __name__ == \"__main__\":\n",
    "    pp = PersegiPanjang(4, 3)\n",
    "    seg = Segitiga(5, 2)\n",
    "    bg = BentukGeometri(\"Lingkaran\")\n",
    "    teks = \"Ini String\"\n",
    "    daftar_objek = [pp, seg, bg, teks]\n",
    "\n",
    "    for objek in daftar_objek:\n",
    "        proses_bentuk(objek)\n"
   ]
  }
 ],
 "metadata": {
  "kernelspec": {
   "display_name": "base",
   "language": "python",
   "name": "python3"
  },
  "language_info": {
   "codemirror_mode": {
    "name": "ipython",
    "version": 3
   },
   "file_extension": ".py",
   "mimetype": "text/x-python",
   "name": "python",
   "nbconvert_exporter": "python",
   "pygments_lexer": "ipython3",
   "version": "3.12.7"
  }
 },
 "nbformat": 4,
 "nbformat_minor": 5
}
