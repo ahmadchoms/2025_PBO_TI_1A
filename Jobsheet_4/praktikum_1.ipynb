{
 "cells": [
  {
   "cell_type": "code",
   "execution_count": 1,
   "id": "5735921f",
   "metadata": {},
   "outputs": [
    {
     "name": "stdout",
     "output_type": "stream",
     "text": [
      "Ini adalah Mobil Tesla Model S berwarna Merah.\n",
      "Mesin kendaraan Tesla Model S dinyalakan.\n",
      "Merk mobil: Tesla Model S\n"
     ]
    }
   ],
   "source": [
    "class Kendaraan:\n",
    "    def __init__(self, merk):\n",
    "        self.merk = merk\n",
    "\n",
    "    def mulai_mesin(self):\n",
    "        print(f\"Mesin kendaraan {self.merk} dinyalakan.\")\n",
    "\n",
    "class Mobil(Kendaraan):\n",
    "    def __init__(self, merk, warna):\n",
    "        self.merk = merk\n",
    "        self.warna = warna\n",
    "\n",
    "    def info_mobil(self):\n",
    "        print(f\"Ini adalah Mobil {self.merk} berwarna {self.warna}.\")\n",
    "\n",
    "if __name__ == \"__main__\":\n",
    "    mobil_tesla = Mobil(\"Tesla Model S\", \"Merah\")\n",
    "    mobil_tesla.info_mobil()\n",
    "    mobil_tesla.mulai_mesin()\n",
    "    print(f\"Merk mobil: {mobil_tesla.merk}\")"
   ]
  }
 ],
 "metadata": {
  "kernelspec": {
   "display_name": "base",
   "language": "python",
   "name": "python3"
  },
  "language_info": {
   "codemirror_mode": {
    "name": "ipython",
    "version": 3
   },
   "file_extension": ".py",
   "mimetype": "text/x-python",
   "name": "python",
   "nbconvert_exporter": "python",
   "pygments_lexer": "ipython3",
   "version": "3.12.7"
  }
 },
 "nbformat": 4,
 "nbformat_minor": 5
}
