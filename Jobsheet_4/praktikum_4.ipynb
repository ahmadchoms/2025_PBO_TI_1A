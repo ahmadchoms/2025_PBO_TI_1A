{
 "cells": [
  {
   "cell_type": "code",
   "execution_count": 3,
   "id": "720cee74",
   "metadata": {},
   "outputs": [
    {
     "name": "stdout",
     "output_type": "stream",
     "text": [
      "Organisme Kucing Persia diciptakan.\n",
      "Hewan Kucing Persia adalah Karnivora.\n",
      "Mamalia Kucing Persia memiliki 4.\n",
      "--------------------\n",
      "Kucing Persia sedang menyusui.\n",
      "Kucing Persia sedang bergerak.\n",
      "Jenis makanan Karnivora\n",
      "Kucing Persia sedang bernafas.\n",
      "Nama organisme: Kucing Persia\n"
     ]
    }
   ],
   "source": [
    "class Organisme:\n",
    "    def __init__(self, nama):\n",
    "        self.nama = nama\n",
    "        print(f\"Organisme {self.nama} diciptakan.\")\n",
    "\n",
    "    def bernafas(self):\n",
    "        print(f\"{self.nama} sedang bernafas.\")\n",
    "\n",
    "class Hewan(Organisme):\n",
    "    def __init__(self, nama, jenis_makanan):\n",
    "        super().__init__(nama)\n",
    "        self.jenis_makanan = jenis_makanan\n",
    "        print(f\"Hewan {self.nama} adalah {self.jenis_makanan}.\")\n",
    "    \n",
    "    def bergerak(self):\n",
    "        print(f\"{self.nama} sedang bergerak.\")\n",
    "\n",
    "class Mamalia(Hewan):\n",
    "    def __init__(self, nama, jenis_makanan, jumlah_kaki):\n",
    "        super().__init__(nama, jenis_makanan)\n",
    "        self.jumlah_kaki = jumlah_kaki\n",
    "        print(f\"Mamalia {self.nama} memiliki {self.jumlah_kaki}.\")\n",
    "\n",
    "    def menyusui(self):\n",
    "        print(f\"{self.nama} sedang menyusui.\")\n",
    "\n",
    "if __name__ == \"__main__\":\n",
    "    kucing = Mamalia(\"Kucing Persia\", \"Karnivora\", 4)\n",
    "    print(\"-\" * 20)\n",
    "    kucing.menyusui()\n",
    "    kucing.bergerak()\n",
    "    print(f\"Jenis makanan {kucing.jenis_makanan}\")\n",
    "    kucing.bernafas()\n",
    "    print(f\"Nama organisme: {kucing.nama}\")"
   ]
  }
 ],
 "metadata": {
  "kernelspec": {
   "display_name": "base",
   "language": "python",
   "name": "python3"
  },
  "language_info": {
   "codemirror_mode": {
    "name": "ipython",
    "version": 3
   },
   "file_extension": ".py",
   "mimetype": "text/x-python",
   "name": "python",
   "nbconvert_exporter": "python",
   "pygments_lexer": "ipython3",
   "version": "3.12.7"
  }
 },
 "nbformat": 4,
 "nbformat_minor": 5
}
