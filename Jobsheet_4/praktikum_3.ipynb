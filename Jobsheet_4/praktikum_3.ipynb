{
 "cells": [
  {
   "cell_type": "code",
   "execution_count": 2,
   "id": "e084be9b",
   "metadata": {},
   "outputs": [
    {
     "name": "stdout",
     "output_type": "stream",
     "text": [
      "Info Hewan Umum:\n",
      "Ini adalah hewan bernama Makhluk\n",
      "Makhluk mengeluarkan suara generik.\n",
      "--------------------\n",
      "info Kucing Persia\n",
      "Ini adalah hewan bernama Puspus\n",
      "Ini adalah kucing ras Persia.\n",
      "Puspus (Kucing) mengeong: Meow!\n"
     ]
    }
   ],
   "source": [
    "class Hewan:\n",
    "    def __init__(self, nama):\n",
    "        self.nama = nama\n",
    "    \n",
    "    def bersuara(self):\n",
    "        print(f\"{self.nama} mengeluarkan suara generik.\")\n",
    "    \n",
    "    def tampilkan_info(self):\n",
    "        print(f\"Ini adalah hewan bernama {self.nama}\")\n",
    "\n",
    "class Kucing(Hewan):\n",
    "    def __init__(self, nama, ras):\n",
    "        super().__init__(nama)\n",
    "        self.ras = ras\n",
    "\n",
    "    def bersuara(self):\n",
    "        print(f\"{self.nama} (Kucing) mengeong: Meow!\")\n",
    "\n",
    "    def tampilkan_info(self):\n",
    "        super().tampilkan_info()\n",
    "        print(f\"Ini adalah kucing ras {self.ras}.\")\n",
    "\n",
    "if __name__ == \"__main__\":\n",
    "    hewan_umum = Hewan(\"Makhluk\")\n",
    "    kucing_persia = Kucing(\"Puspus\", \"Persia\")\n",
    "    print(\"Info Hewan Umum:\")\n",
    "    hewan_umum.tampilkan_info()\n",
    "    hewan_umum.bersuara()\n",
    "    print(\"-\" * 20)\n",
    "    print(\"info Kucing Persia\")\n",
    "    kucing_persia.tampilkan_info()\n",
    "    kucing_persia.bersuara()"
   ]
  }
 ],
 "metadata": {
  "kernelspec": {
   "display_name": "base",
   "language": "python",
   "name": "python3"
  },
  "language_info": {
   "codemirror_mode": {
    "name": "ipython",
    "version": 3
   },
   "file_extension": ".py",
   "mimetype": "text/x-python",
   "name": "python",
   "nbconvert_exporter": "python",
   "pygments_lexer": "ipython3",
   "version": "3.12.7"
  }
 },
 "nbformat": 4,
 "nbformat_minor": 5
}
