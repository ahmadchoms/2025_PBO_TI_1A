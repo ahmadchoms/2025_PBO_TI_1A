{
 "cells": [
  {
   "cell_type": "code",
   "execution_count": null,
   "id": "0f315ec9",
   "metadata": {},
   "outputs": [
    {
     "name": "stdout",
     "output_type": "stream",
     "text": [
      "Program dimulai.\n",
      "\n",
      "Konstruktor: Objek 'Demo' telah dibuat.\n",
      "Program sedang berjalan...\n",
      "\n",
      "Destruktor: Objek 'Demo' sedang dihapus.\n",
      "Objek telah dihapus secara eksplisit.\n",
      "\n",
      "Program selesai.\n"
     ]
    }
   ],
   "source": [
    "class SimpleExample:\n",
    "    def __init__(self, name):\n",
    "        self.name = name\n",
    "        print(f\"Konstruktor: Objek '{self.name}' telah dibuat.\")\n",
    "\n",
    "    def __del__(self):\n",
    "        print(f\"Destruktor: Objek '{self.name}' sedang dihapus.\")\n",
    "\n",
    "def main():\n",
    "    print(\"Program dimulai.\\n\")\n",
    "    obj = SimpleExample(\"Demo\")\n",
    "    print(\"Program sedang berjalan...\\n\")\n",
    "    del obj\n",
    "    print(\"Objek telah dihapus secara eksplisit.\\n\")\n",
    "    print(\"Program selesai.\")\n",
    "\n",
    "if __name__ == \"__main__\":\n",
    "    main()\n",
    "\n",
    "\"\"\"\n",
    "--- Kesimpulan OOP dari kode di atas ---\n",
    "\n",
    "- Method __del__ adalah destruktor yang dipanggil saat objek dihapus dari memori,\n",
    "  berguna untuk melakukan cleanup (meskipun jarang digunakan di Python modern).\n",
    "\"\"\"\n"
   ]
  }
 ],
 "metadata": {
  "kernelspec": {
   "display_name": "base",
   "language": "python",
   "name": "python3"
  },
  "language_info": {
   "codemirror_mode": {
    "name": "ipython",
    "version": 3
   },
   "file_extension": ".py",
   "mimetype": "text/x-python",
   "name": "python",
   "nbconvert_exporter": "python",
   "pygments_lexer": "ipython3",
   "version": "3.12.7"
  }
 },
 "nbformat": 4,
 "nbformat_minor": 5
}
