{
 "cells": [
  {
   "cell_type": "code",
   "execution_count": null,
   "id": "21341089",
   "metadata": {},
   "outputs": [
    {
     "name": "stdout",
     "output_type": "stream",
     "text": [
      "File 'application.log' berhasil dibuka untuk logging.\n",
      "Pesan log: 'Aplikasi dimulai.' telah ditulis.\n",
      "Pesan log: 'Melakukan operasi A...' telah ditulis.\n",
      "Pesan log: 'Operasi A selesai.' telah ditulis.\n",
      "Pesan log: 'Aplikasi akan segera selesai.' telah ditulis.\n",
      "File 'application.log' telah ditutup.\n"
     ]
    }
   ],
   "source": [
    "class FileLogger:\n",
    "    def __init__(self, filename):\n",
    "        self.filename = filename\n",
    "        try:\n",
    "            self.file = open(filename, \"a\")\n",
    "            print(f\"File '{filename}' berhasil dibuka untuk logging.\")\n",
    "        except Exception as e:\n",
    "            print(f\"Gagal membuka file '{filename}': {e}\")\n",
    "\n",
    "    def write_log(self, message):\n",
    "        self.file.write(message + \"\\n\")\n",
    "        self.file.flush()\n",
    "        print(f\"Pesan log: '{message}' telah ditulis.\")\n",
    "\n",
    "    def __del__(self):\n",
    "        if hasattr(self, \"file\") and not self.file.closed:\n",
    "            self.file.close()\n",
    "            print(f\"File '{self.filename}' telah ditutup.\")\n",
    "\n",
    "\n",
    "if __name__ == \"__main__\":\n",
    "    logger = FileLogger(\"application.log\")\n",
    "    logger.write_log(\"Aplikasi dimulai.\")\n",
    "    logger.write_log(\"Melakukan operasi A...\")\n",
    "    logger.write_log(\"Operasi A selesai.\")\n",
    "    logger.write_log(\"Aplikasi akan segera selesai.\")\n",
    "    del logger\n",
    "\n",
    "\"\"\"\n",
    "--- Kesimpulan OOP dari kode di atas ---\n",
    "\n",
    "- Destruktor (__del__) digunakan untuk memastikan file ditutup saat objek dihapus.\n",
    "- Kelas menyimpan state internal (filename, file) yang hanya bisa diakses melalui objek.\n",
    "- Method write_log menjadi antarmuka (interface) publik untuk menulis ke file secara aman.\n",
    "- OOP memungkinkan kita membungkus operasi file dalam bentuk objek yang terkontrol lifecycle-nya.\n",
    "\"\"\"\n"
   ]
  }
 ],
 "metadata": {
  "kernelspec": {
   "display_name": "base",
   "language": "python",
   "name": "python3"
  },
  "language_info": {
   "codemirror_mode": {
    "name": "ipython",
    "version": 3
   },
   "file_extension": ".py",
   "mimetype": "text/x-python",
   "name": "python",
   "nbconvert_exporter": "python",
   "pygments_lexer": "ipython3",
   "version": "3.12.7"
  }
 },
 "nbformat": 4,
 "nbformat_minor": 5
}
