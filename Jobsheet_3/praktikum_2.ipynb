{
 "cells": [
  {
   "cell_type": "code",
   "execution_count": null,
   "id": "d524c9f9",
   "metadata": {},
   "outputs": [
    {
     "name": "stdout",
     "output_type": "stream",
     "text": [
      "Employee: John Doe, Gaji: 50000\n",
      "Gaji telah dinaikkan sebesar 5000.\n",
      "Gaji setelah kenaikan: 55000\n",
      "Gaji diatur ulang menjadi 60000.\n",
      "Informasi terbaru: Employee: John Doe, Gaji: 60000\n"
     ]
    }
   ],
   "source": [
    "class Employee:\n",
    "    def __init__(self, name, salary):\n",
    "        self.__name = name\n",
    "        self.__salary = salary\n",
    "\n",
    "    def update_salary(self, increase):\n",
    "        if increase > 0:\n",
    "            self.__salary += increase\n",
    "            print(f\"Gaji telah dinaikkan sebesar {increase}.\")\n",
    "        else:\n",
    "            print(\"Nilai kenaikan harus lebih dari 0.\")\n",
    "\n",
    "    def set_salary(self, new_salary):\n",
    "        if new_salary >= 0:\n",
    "            self.__salary = new_salary\n",
    "            print(f\"Gaji diatur ulang menjadi {new_salary}.\")\n",
    "        else:\n",
    "            print(\"Gaji tidak dapat bernilai negatif.\")\n",
    "\n",
    "    def get_salary(self):\n",
    "        return self.__salary\n",
    "\n",
    "    def get_employee_info(self):\n",
    "        return f\"Employee: {self.__name}, Gaji: {self.__salary}\"\n",
    "\n",
    "\n",
    "if __name__ == \"__main__\":\n",
    "    employee1 = Employee(\"John Doe\", 50000)\n",
    "    print(employee1.get_employee_info())\n",
    "    employee1.update_salary(5000)\n",
    "    print(f\"Gaji setelah kenaikan: {employee1.get_salary()}\")\n",
    "    employee1.set_salary(60000)\n",
    "    print(f\"Informasi terbaru: {employee1.get_employee_info()}\")\n",
    "\n",
    "\"\"\"\n",
    "--- Kesimpulan OOP dari kode di atas ---\n",
    "\n",
    "- Atribut __name dan __salary disembunyikan menggunakan double underscore untuk menjaga keamanan data (enkapsulasi).\n",
    "- Interaksi terhadap data internal dilakukan melalui method publik seperti update_salary, set_salary, dan get_salary.\n",
    "- Validasi input diterapkan di dalam method untuk menjaga konsistensi dan mencegah kesalahan logika.\n",
    "\"\"\""
   ]
  }
 ],
 "metadata": {
  "kernelspec": {
   "display_name": "base",
   "language": "python",
   "name": "python3"
  },
  "language_info": {
   "codemirror_mode": {
    "name": "ipython",
    "version": 3
   },
   "file_extension": ".py",
   "mimetype": "text/x-python",
   "name": "python",
   "nbconvert_exporter": "python",
   "pygments_lexer": "ipython3",
   "version": "3.12.7"
  }
 },
 "nbformat": 4,
 "nbformat_minor": 5
}
