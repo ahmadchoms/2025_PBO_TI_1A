{
 "cells": [
  {
   "cell_type": "code",
   "execution_count": null,
   "id": "36593bfa",
   "metadata": {},
   "outputs": [
    {
     "name": "stdout",
     "output_type": "stream",
     "text": [
      "500 telah ditambahkan ke akun Alice.\n",
      "Jumlah deposit harus lebih dari 0.\n",
      "300 telah ditarik dari akun Alice.\n",
      "Saldo tidak mencukupi.\n",
      "Saldo terakhir di akun Alice: 1200\n"
     ]
    }
   ],
   "source": [
    "class BankAccount:\n",
    "    def __init__(self, owner, balance):\n",
    "        self.__owner = owner\n",
    "        self.__balance = balance\n",
    "\n",
    "    def deposit(self, amount):\n",
    "        if amount > 0:\n",
    "            self.__balance += amount\n",
    "            print(f\"{amount} telah ditambahkan ke akun {self.__owner}.\")\n",
    "        else:\n",
    "            print(\"Jumlah deposit harus lebih dari 0.\")\n",
    "\n",
    "    def withdraw(self, amount):\n",
    "        if amount <= self.__balance:\n",
    "            self.__balance -= amount\n",
    "            print(f\"{amount} telah ditarik dari akun {self.__owner}.\")\n",
    "        else:\n",
    "            print(\"Saldo tidak mencukupi.\")\n",
    "\n",
    "    def get_balance(self):\n",
    "        return self.__balance\n",
    "\n",
    "\n",
    "if __name__ == \"__main__\":\n",
    "    alice_account = BankAccount(owner=\"Alice\", balance=1000)\n",
    "    alice_account.deposit(500)\n",
    "    alice_account.deposit(-100)\n",
    "    alice_account.withdraw(300)\n",
    "    alice_account.withdraw(2000)\n",
    "    current_balance = alice_account.get_balance()\n",
    "    print(f\"Saldo terakhir di akun {alice_account._BankAccount__owner}: {current_balance}\")\n",
    "\n",
    "\"\"\"\n",
    "--- Kesimpulan OOP dari kode di atas ---\n",
    "\n",
    "- Atribut __owner dan __balance disembunyikan menggunakan double underscore\n",
    "  untuk membatasi akses langsung dari luar kelas (enkapsulasi).\n",
    "\n",
    "- Python menggunakan name mangling (_BankAccount__balance) untuk melindungi atribut private.\n",
    "\n",
    "- Method deposit, withdraw, dan get_balance digunakan sebagai antarmuka untuk berinteraksi\n",
    "  dengan data internal secara aman.\n",
    "\n",
    "- Objek dibuat dari class BankAccount melalui konstruktor __init__ sesuai prinsip OOP.\n",
    "\n",
    "- Validasi di dalam method membantu menjaga data tetap konsisten dan aman dari kesalahan.\n",
    "\"\"\""
   ]
  }
 ],
 "metadata": {
  "kernelspec": {
   "display_name": "base",
   "language": "python",
   "name": "python3"
  },
  "language_info": {
   "codemirror_mode": {
    "name": "ipython",
    "version": 3
   },
   "file_extension": ".py",
   "mimetype": "text/x-python",
   "name": "python",
   "nbconvert_exporter": "python",
   "pygments_lexer": "ipython3",
   "version": "3.12.7"
  }
 },
 "nbformat": 4,
 "nbformat_minor": 5
}
