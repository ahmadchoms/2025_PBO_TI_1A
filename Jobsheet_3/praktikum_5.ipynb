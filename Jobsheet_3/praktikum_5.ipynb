{
 "cells": [
  {
   "cell_type": "code",
   "execution_count": null,
   "id": "627dbccd",
   "metadata": {},
   "outputs": [
    {
     "name": "stdout",
     "output_type": "stream",
     "text": [
      "Kalkulator diinisialisasi dengan nilai: 10\n",
      "Setelah penambahan 5, nilai sekarang adalah: 15\n",
      "Setelah pengurangan 3, nilai sekarang adalah: 12\n",
      "Nilai saat ini adalah: 12\n",
      "Kalkulator diinisialisasi dengan nilai: 0\n",
      "Setelah penambahan 20, nilai sekarang adalah: 20\n",
      "Nilai saat ini adalah: 20\n"
     ]
    }
   ],
   "source": [
    "class Calculator:\n",
    "    def __init__(self, initial_value=0):\n",
    "        self.value = initial_value\n",
    "        print(f\"Kalkulator diinisialisasi dengan nilai: {self.value}\")\n",
    "\n",
    "    def add(self, number):\n",
    "        self.value += number\n",
    "        print(f\"Setelah penambahan {number}, nilai sekarang adalah: {self.value}\")\n",
    "\n",
    "    def subtract(self, number):\n",
    "        self.value -= number\n",
    "        print(f\"Setelah pengurangan {number}, nilai sekarang adalah: {self.value}\")\n",
    "\n",
    "    def reset(self):\n",
    "        self.value = 0\n",
    "        print(\"Nilai telah direset ke 0.\")\n",
    "\n",
    "    def show_value(self):\n",
    "        print(f\"Nilai saat ini adalah: {self.value}\")\n",
    "\n",
    "\n",
    "def main():\n",
    "    calc1 = Calculator(initial_value=10)\n",
    "    calc1.add(5)\n",
    "    calc1.subtract(3)\n",
    "    calc1.show_value()\n",
    "\n",
    "    calc2 = Calculator()\n",
    "    calc2.add(20)\n",
    "    calc2.show_value()\n",
    "\n",
    "if __name__ == \"__main__\":\n",
    "    main()\n",
    "\n",
    "\"\"\"\n",
    "--- Kesimpulan OOP dari kode di atas ---\n",
    "\n",
    "- Setiap objek (instance) dari kelas Calculator memiliki data tersendiri, disimpan di atribut instance seperti 'value'.\n",
    "- Keyword 'self' merepresentasikan instance itu sendiri, memungkinkan setiap method mengakses atau mengubah data milik objek tersebut.\n",
    "- Method dalam kelas menjadi antarmuka (interface) untuk memanipulasi data internal objek.\n",
    "\"\"\"\n"
   ]
  }
 ],
 "metadata": {
  "kernelspec": {
   "display_name": "base",
   "language": "python",
   "name": "python3"
  },
  "language_info": {
   "codemirror_mode": {
    "name": "ipython",
    "version": 3
   },
   "file_extension": ".py",
   "mimetype": "text/x-python",
   "name": "python",
   "nbconvert_exporter": "python",
   "pygments_lexer": "ipython3",
   "version": "3.12.7"
  }
 },
 "nbformat": 4,
 "nbformat_minor": 5
}
