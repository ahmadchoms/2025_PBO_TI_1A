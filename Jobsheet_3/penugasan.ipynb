{
 "cells": [
  {
   "cell_type": "code",
   "execution_count": null,
   "id": "684a4bcb",
   "metadata": {},
   "outputs": [
    {
     "name": "stdout",
     "output_type": "stream",
     "text": [
      "Nama Mahasiswa: Siti\n",
      "Nilai: 87\n",
      "Grade: B\n",
      "\n",
      "Nilai diubah...\n",
      "Nama Mahasiswa: Siti\n",
      "Nilai: 93\n",
      "Grade: A\n",
      "\n",
      "Data mahasiswa Siti telah dihapus dari sistem.\n"
     ]
    }
   ],
   "source": [
    "class Student:\n",
    "    def __init__(self, name, score):\n",
    "        self.__name = name\n",
    "        self.__score = 0 \n",
    "        self.__grade = 'E' \n",
    "        self.score = score\n",
    "    \n",
    "    @property\n",
    "    def name(self):\n",
    "        return self.__name\n",
    "    \n",
    "    @name.setter\n",
    "    def name(self, name):\n",
    "        self.__name = name\n",
    "    \n",
    "    @property\n",
    "    def score(self):\n",
    "        return self.__score\n",
    "    \n",
    "    @score.setter\n",
    "    def score(self, score):\n",
    "        if 0 <= score <= 100:\n",
    "            self.__score = score\n",
    "            self.__update_grade()\n",
    "        else:\n",
    "            print(\"Score harus diantara 0 dan 100\")\n",
    "    \n",
    "    @property\n",
    "    def grade(self):\n",
    "        return self.__grade\n",
    "    \n",
    "    def __update_grade(self):\n",
    "        if 90 <= self.__score <= 100:\n",
    "            self.__grade = 'A'\n",
    "        elif 80 <= self.__score <= 89:\n",
    "            self.__grade = 'B'\n",
    "        elif 70 <= self.__score <= 79:\n",
    "            self.__grade = 'C'\n",
    "        elif 60 <= self.__score <= 69:\n",
    "            self.__grade = 'D'\n",
    "        else:\n",
    "            self.__grade = 'E'\n",
    "    \n",
    "    def show_info(self):\n",
    "        print(f\"Nama Mahasiswa: {self.__name}\")\n",
    "        print(f\"Nilai: {self.__score}\")\n",
    "        print(f\"Grade: {self.__grade}\")\n",
    "    \n",
    "    def __del__(self):\n",
    "        print(f\"\\nData mahasiswa {self.__name} telah dihapus dari sistem.\")\n",
    "\n",
    "if __name__ == \"__main__\":\n",
    "    student = Student(\"Siti\", 87)\n",
    "    student.show_info()\n",
    "    \n",
    "    print(\"\\nNilai diubah...\")\n",
    "    student.score = 93\n",
    "    student.show_info()\n",
    "\n",
    "    del student"
   ]
  }
 ],
 "metadata": {
  "kernelspec": {
   "display_name": "base",
   "language": "python",
   "name": "python3"
  },
  "language_info": {
   "codemirror_mode": {
    "name": "ipython",
    "version": 3
   },
   "file_extension": ".py",
   "mimetype": "text/x-python",
   "name": "python",
   "nbconvert_exporter": "python",
   "pygments_lexer": "ipython3",
   "version": "3.12.7"
  }
 },
 "nbformat": 4,
 "nbformat_minor": 5
}
