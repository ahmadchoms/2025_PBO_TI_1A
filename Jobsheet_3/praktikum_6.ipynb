{
 "cells": [
  {
   "cell_type": "code",
   "execution_count": null,
   "id": "01b84950",
   "metadata": {},
   "outputs": [
    {
     "name": "stdout",
     "output_type": "stream",
     "text": [
      "Nama: Alice, Umur: 30\n",
      "Nama baru: Bob, Umur baru: 35\n",
      "Umur tidak boleh negatif!\n"
     ]
    }
   ],
   "source": [
    "class Person:\n",
    "    def __init__(self, name, age):\n",
    "        self.__name = name\n",
    "        self.__age = age\n",
    "\n",
    "    @property\n",
    "    def name(self):\n",
    "        return self.__name\n",
    "\n",
    "    @name.setter\n",
    "    def name(self, value):\n",
    "        if not value:\n",
    "            print(\"Nama tidak boleh kosong.\")\n",
    "        else:\n",
    "            self.__name = value\n",
    "\n",
    "    @property\n",
    "    def age(self):\n",
    "        return self.__age\n",
    "\n",
    "    @age.setter\n",
    "    def age(self, value):\n",
    "        if value < 0:\n",
    "            print(\"Umur tidak boleh negatif!\")\n",
    "        else:\n",
    "            self.__age = value\n",
    "\n",
    "\n",
    "def main():\n",
    "    person = Person(\"Alice\", 30)\n",
    "    print(f\"Nama: {person.name}, Umur: {person.age}\")\n",
    "\n",
    "    person.name = \"Bob\"\n",
    "    person.age = 35\n",
    "    print(f\"Nama baru: {person.name}, Umur baru: {person.age}\")\n",
    "\n",
    "    person.age = -5\n",
    "\n",
    "if __name__ == \"__main__\":\n",
    "    main()\n",
    "\n",
    "\"\"\"\n",
    "--- Kesimpulan OOP dari kode di atas ---\n",
    "\n",
    "- Getter & Setter: Properti @property digunakan sebagai cara Pythonic untuk mengakses dan mengatur atribut dengan validasi.\n",
    "\"\"\"\n"
   ]
  }
 ],
 "metadata": {
  "kernelspec": {
   "display_name": "base",
   "language": "python",
   "name": "python3"
  },
  "language_info": {
   "codemirror_mode": {
    "name": "ipython",
    "version": 3
   },
   "file_extension": ".py",
   "mimetype": "text/x-python",
   "name": "python",
   "nbconvert_exporter": "python",
   "pygments_lexer": "ipython3",
   "version": "3.12.7"
  }
 },
 "nbformat": 4,
 "nbformat_minor": 5
}
