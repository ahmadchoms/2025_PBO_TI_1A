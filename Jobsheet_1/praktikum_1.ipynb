{
 "cells": [
  {
   "cell_type": "code",
   "execution_count": null,
   "metadata": {},
   "outputs": [],
   "source": [
    "print(\"Praktikum 01. Tipe data dasar\\n\")\n",
    "\n",
    "print(\"Integer (int)\")\n",
    "angka_int = 10\n",
    "print(f\"angka_int = {angka_int} => {type(angka_int)}  # Bilangan bulat\")\n",
    "\n",
    "print(\"\\nFloat (float)\")\n",
    "angka_float = 3.14\n",
    "print(f\"angka_float = {angka_float} => {type(angka_float)}  # Bilangan desimal\")\n",
    "\n",
    "print(\"\\nComplex (complex)\")\n",
    "angka_complex = 2 + 3j\n",
    "print(f\"angka_complex = {angka_complex} => {type(angka_complex)}  # Bilangan kompleks\")\n",
    "\n",
    "print(\"\\nBoolean (bool)\")\n",
    "is_active = True\n",
    "print(f\"is_active = {is_active} => {type(is_active)}  # Nilai True atau False\")\n",
    "\n",
    "print(\"\\nString (str)\")\n",
    "teks = \"Hello, Python\"\n",
    "print(f\"teks = {teks} => {type(teks)}  # Teks atau kumpulan karakter\")\n",
    "\n",
    "print(\"\\nList (list)\")\n",
    "daftar_angka = [1, 2, 3, 4, 5]\n",
    "print(f\"daftar_angka = {daftar_angka} => {type(daftar_angka)}  # Koleksi yang bisa diubah (mutable)\")\n",
    "\n",
    "print(\"\\nTuple (tuple)\")\n",
    "koordinat = (10, 20)\n",
    "print(f\"koordinat = {koordinat} => {type(koordinat)}  # Koleksi yang tidak bisa diubah (immutable)\")\n",
    "\n",
    "print(\"\\nDictionary (dict)\")\n",
    "data_mahasiswa = {\n",
    "    \"nama\": \"Andi\",\n",
    "    \"nim\": \"4.33.24.0.01\",\n",
    "    \"jurusan\": \"Teknik Informatika\"\n",
    "}\n",
    "print(f\"data_mahasiswa = {data_mahasiswa} => {type(data_mahasiswa)}  # Struktur data dengan key-value\")\n",
    "\n",
    "print(\"\\nSet (set)\")\n",
    "himpunan_angka = {1, 2, 3, 4}\n",
    "print(f\"himpunan_angka = {himpunan_angka} => {type(himpunan_angka)}  # Koleksi unik tanpa duplikasi\")\n",
    "\n",
    "print(\"\\nKonversi String ke Integer\")\n",
    "nilai_str = \"100\"\n",
    "print(f\"nilai_str = {nilai_str} => {type(nilai_str)}  # Teks yang merepresentasikan angka\")\n",
    "nilai_int = int(nilai_str)\n",
    "print(f\"nilai_int = {nilai_int} => {type(nilai_int)}  # Konversi string ke integer\")\n"
   ]
  }
 ],
 "metadata": {
  "language_info": {
   "name": "python"
  }
 },
 "nbformat": 4,
 "nbformat_minor": 2
}
