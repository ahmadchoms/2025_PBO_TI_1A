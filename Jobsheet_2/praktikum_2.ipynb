{
 "cells": [
  {
   "cell_type": "code",
   "execution_count": null,
   "metadata": {},
   "outputs": [],
   "source": [
    "# Praktikum 2: Modularisasi Kode dengan Fungsi\n",
    "# File utama main.py yang mengimpor modul geometri.py\n",
    "\n",
    "# Mengimpor modul geometri\n",
    "import geometri\n",
    "\n",
    "\"\"\"\n",
    "Kesimpulan:\n",
    "- Dalam praktikum ini, kita telah belajar cara memecah kode menjadi fungsi-fungsi terpisah \n",
    "  untuk menghitung luas berbagai bangun datar (persegi, persegi panjang, dan lingkaran).\n",
    "- Fungsi-fungsi ini ditempatkan dalam modul terpisah (geometri.py) untuk mempermudah penggunaan ulang \n",
    "  dan pengelolaan kode.\n",
    "- Modularisasi kode membantu menjaga kebersihan, keterbacaan, dan memudahkan pemeliharaan kode dalam \n",
    "  jangka panjang.\n",
    "\"\"\"\n",
    "\n",
    "def main():\n",
    "    # Menggunakan fungsi dari modul geometri\n",
    "    luas_persegi = geometri.hitung_luas_persegi(5)\n",
    "    print(f\"Luas persegi dengan sisi 5 adalah: {luas_persegi}\")\n",
    "\n",
    "    luas_persegi_panjang = geometri.hitung_luas_persegi_panjang(10, 5)\n",
    "    print(f\"Luas persegi panjang dengan panjang 10 dan lebar 5 adalah: {luas_persegi_panjang}\")\n",
    "\n",
    "    luas_lingkaran = geometri.hitung_luas_lingkaran(7)\n",
    "    print(f\"Luas lingkaran dengan jari-jari 7 adalah: {luas_lingkaran}\")\n",
    "\n",
    "if __name__ == \"__main__\":\n",
    "    main()\n"
   ]
  }
 ],
 "metadata": {
  "language_info": {
   "name": "python"
  }
 },
 "nbformat": 4,
 "nbformat_minor": 2
}
