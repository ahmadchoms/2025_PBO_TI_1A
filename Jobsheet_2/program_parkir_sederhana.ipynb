{
 "cells": [
  {
   "cell_type": "code",
   "execution_count": 1,
   "metadata": {},
   "outputs": [
    {
     "name": "stdout",
     "output_type": "stream",
     "text": [
      "Motor dengan plat nomor B 1234 AB berhasil diparkir.\n",
      "------------------------------------------------------------\n",
      "Motor dengan plat nomor B 5678 CD berhasil diparkir.\n",
      "------------------------------------------------------------\n",
      "Motor dengan plat nomor B 9101 EF berhasil diparkir.\n",
      "------------------------------------------------------------\n",
      "Daftar motor yang parkir:\n",
      "Motor dengan plat nomor B 1234 AB milik Andi\n",
      "Motor dengan plat nomor B 5678 CD milik Budi\n",
      "Motor dengan plat nomor B 9101 EF milik Cindy\n",
      "------------------------------------------------------------\n",
      "Motor dengan B 5678 CD berhasil dikeluarkan.\n",
      "------------------------------------------------------------\n",
      "Daftar motor yang parkir:\n",
      "Motor dengan plat nomor B 1234 AB milik Andi\n",
      "Motor dengan plat nomor B 9101 EF milik Cindy\n",
      "------------------------------------------------------------\n"
     ]
    }
   ],
   "source": [
    "from motor import Motor\n",
    "from parkir import Parkir\n",
    "\n",
    "def main():\n",
    "    parkir = Parkir(kapasitas=5)\n",
    "\n",
    "    motor1 = Motor(\"B 1234 AB\", \"Andi\")\n",
    "    motor2 = Motor(\"B 5678 CD\", \"Budi\")\n",
    "    motor3 = Motor(\"B 9101 EF\", \"Cindy\")\n",
    "\n",
    "    parkir.parkir_motor(motor1)\n",
    "    print(\"-\" * 60)\n",
    "    parkir.parkir_motor(motor2)\n",
    "    print(\"-\" * 60)\n",
    "    parkir.parkir_motor(motor3)\n",
    "    print(\"-\" * 60)\n",
    "\n",
    "    parkir.tampilkan_daftar_motor()\n",
    "    print(\"-\" * 60)\n",
    "\n",
    "    parkir.keluarkan_motor(\"B 5678 CD\")\n",
    "    print(\"-\" * 60)\n",
    "\n",
    "    parkir.tampilkan_daftar_motor()\n",
    "    print(\"-\" * 60)\n",
    "\n",
    "if __name__ == \"__main__\":\n",
    "    main()"
   ]
  },
  {
   "cell_type": "code",
   "execution_count": null,
   "metadata": {},
   "outputs": [],
   "source": []
  }
 ],
 "metadata": {
  "kernelspec": {
   "display_name": "base",
   "language": "python",
   "name": "python3"
  },
  "language_info": {
   "codemirror_mode": {
    "name": "ipython",
    "version": 3
   },
   "file_extension": ".py",
   "mimetype": "text/x-python",
   "name": "python",
   "nbconvert_exporter": "python",
   "pygments_lexer": "ipython3",
   "version": "3.12.7"
  }
 },
 "nbformat": 4,
 "nbformat_minor": 2
}
