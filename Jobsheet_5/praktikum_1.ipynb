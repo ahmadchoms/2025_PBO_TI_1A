{
 "cells": [
  {
   "cell_type": "code",
   "execution_count": 1,
   "id": "d5bc0e99",
   "metadata": {},
   "outputs": [
    {
     "name": "stdout",
     "output_type": "stream",
     "text": [
      "\n",
      "Aksi Burung\n",
      "-- Aksi untuk Elang Jawa\n",
      "Elang Jawa terbang tinggi melayang di angkasa.\n",
      "Elang Jawa berteriak nyaring!\n",
      "---------------\n",
      "-- Aksi untuk Pipit Gereja\n",
      "Pipit Gereja terbang cepat di antara pepohonan.\n",
      "Pipit Gereja berkicau merdu: Cit cit!\n",
      "---------------\n",
      "-- Aksi untuk Burung Misterius\n",
      "Burung Misterius terbang dengan cara umum.\n",
      "Burung Misterius mengeluarkan suara burung.\n",
      "---------------\n"
     ]
    }
   ],
   "source": [
    "class Burung:\n",
    "    def __init__(self, nama):\n",
    "        self.nama = nama\n",
    "    \n",
    "    def terbang(self):\n",
    "        print(f\"{self.nama} terbang dengan cara umum.\")\n",
    "\n",
    "    def bersuara(self):\n",
    "        print(f\"{self.nama} mengeluarkan suara burung.\")\n",
    "\n",
    "class Elang(Burung):\n",
    "    def __init__(self, nama, rentang_sayap):\n",
    "        super().__init__(nama)\n",
    "        self.rentang_sayap = rentang_sayap\n",
    "    \n",
    "    def terbang(self):\n",
    "        print(f\"{self.nama} terbang tinggi melayang di angkasa.\")\n",
    "    \n",
    "    def bersuara(self):\n",
    "        print(f\"{self.nama} berteriak nyaring!\")\n",
    "    \n",
    "class Pipit(Burung):\n",
    "    def __init__(self, nama, warna_bulu):\n",
    "        super().__init__(nama)\n",
    "        self.warna_bulu = warna_bulu\n",
    "    \n",
    "    def terbang(self):\n",
    "        print(f\"{self.nama} terbang cepat di antara pepohonan.\")\n",
    "    \n",
    "    def bersuara(self):\n",
    "        print(f\"{self.nama} berkicau merdu: Cit cit!\")\n",
    "\n",
    "def demonstrasi_aksi_burung(daftar_burung):\n",
    "    print(\"\\nAksi Burung\")\n",
    "    for burung in daftar_burung:\n",
    "        print(f\"-- Aksi untuk {burung.nama}\")\n",
    "        burung.terbang()\n",
    "        burung.bersuara()\n",
    "        print(\"-\" * 15)\n",
    "\n",
    "if __name__ == \"__main__\":\n",
    "    elang_jawa = Elang(\"Elang Jawa\", 1.5)\n",
    "    pipit_gereja = Pipit(\"Pipit Gereja\", \"Coklat\")\n",
    "    burung_aneh = Burung(\"Burung Misterius\")\n",
    "    koleksi_burung = [elang_jawa, pipit_gereja, burung_aneh]\n",
    "    demonstrasi_aksi_burung(koleksi_burung)"
   ]
  }
 ],
 "metadata": {
  "kernelspec": {
   "display_name": "base",
   "language": "python",
   "name": "python3"
  },
  "language_info": {
   "codemirror_mode": {
    "name": "ipython",
    "version": 3
   },
   "file_extension": ".py",
   "mimetype": "text/x-python",
   "name": "python",
   "nbconvert_exporter": "python",
   "pygments_lexer": "ipython3",
   "version": "3.12.7"
  }
 },
 "nbformat": 4,
 "nbformat_minor": 5
}
