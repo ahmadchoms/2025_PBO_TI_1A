{
 "cells": [
  {
   "cell_type": "code",
   "execution_count": 4,
   "id": "7263cf18",
   "metadata": {},
   "outputs": [
    {
     "name": "stdout",
     "output_type": "stream",
     "text": [
      "Calc-01 siap digunakan.\n",
      "\n",
      "--- Percobaan Penjumlahan ---\n",
      "\n",
      "Memanggil metode tambah dengan argumen: (5, 10)\n",
      "Hasil penjumlahan: 15\n",
      "\n",
      "Memanggil metode tambah dengan argumen: (2, 3, 5, 10)\n",
      "Hasil penjumlahan: 20\n",
      "\n",
      "Memanggil metode tambah dengan argumen: (100,)\n",
      "Hasil penjumlahan: 100\n",
      "\n",
      "Memanggil metode tambah dengan argumen: ()\n",
      "Tidak ada angka untuk dijumlahkan.\n",
      "\n",
      "Memanggil metode tambah dengan argumen: (1, 2, 'tiga', 4, 5.5)\n",
      "Peringatan Argumen tiga bukan angka dan akan diabaikan.\n",
      "Hasil Penjumlahan (dengan beberapa input diabaikan): 12.5\n"
     ]
    }
   ],
   "source": [
    "class KalkulatorSederhana:\n",
    "    def __init__(self, nama=\"Kalkulator\"):\n",
    "        self.nama = nama\n",
    "        print(f\"{self.nama} siap digunakan.\")\n",
    "    \n",
    "    def tambah(self, *args):\n",
    "        print(f\"\\nMemanggil metode tambah dengan argumen: {args}\")\n",
    "        if not args:\n",
    "            print(\"Tidak ada angka untuk dijumlahkan.\")\n",
    "            return 0\n",
    "        total = 0\n",
    "        valid_input = True\n",
    "        for angka in args:\n",
    "            if isinstance(angka, (int, float)):\n",
    "                total += angka\n",
    "            else:\n",
    "                print(f\"Peringatan Argumen {angka} bukan angka dan akan diabaikan.\")\n",
    "                valid_input = False\n",
    "        if valid_input:\n",
    "            print(f\"Hasil penjumlahan: {total}\")\n",
    "        else:\n",
    "            print(f\"Hasil Penjumlahan (dengan beberapa input diabaikan): {total}\")\n",
    "        return total\n",
    "\n",
    "if __name__ == \"__main__\":\n",
    "    calc = KalkulatorSederhana(\"Calc-01\")\n",
    "    print(\"\\n--- Percobaan Penjumlahan ---\")\n",
    "    calc.tambah(5, 10)\n",
    "    calc.tambah(2, 3, 5, 10)\n",
    "    calc.tambah(100)\n",
    "    calc.tambah()\n",
    "    calc.tambah(1, 2, \"tiga\", 4, 5.5)"
   ]
  }
 ],
 "metadata": {
  "kernelspec": {
   "display_name": "base",
   "language": "python",
   "name": "python3"
  },
  "language_info": {
   "codemirror_mode": {
    "name": "ipython",
    "version": 3
   },
   "file_extension": ".py",
   "mimetype": "text/x-python",
   "name": "python",
   "nbconvert_exporter": "python",
   "pygments_lexer": "ipython3",
   "version": "3.12.7"
  }
 },
 "nbformat": 4,
 "nbformat_minor": 5
}
