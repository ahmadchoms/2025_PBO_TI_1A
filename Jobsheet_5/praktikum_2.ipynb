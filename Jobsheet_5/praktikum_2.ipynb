{
 "cells": [
  {
   "cell_type": "code",
   "execution_count": 2,
   "id": "4efcffec",
   "metadata": {},
   "outputs": [
    {
     "name": "stdout",
     "output_type": "stream",
     "text": [
      "Demonstrasi Duck Typing:\n",
      "Kucing: Meow!\n",
      "Anjing: Guk guk!\n",
      "Bebak: Kwek kwek!\n",
      "Objek Mobil tidak bisa bersuara.\n"
     ]
    }
   ],
   "source": [
    "class Kucing:\n",
    "    def bersuara(self):\n",
    "        print(\"Kucing: Meow!\")\n",
    "    \n",
    "class Anjing:\n",
    "    def bersuara(self):\n",
    "        print(\"Anjing: Guk guk!\")\n",
    "\n",
    "class Bebek:\n",
    "    def bersuara(self):\n",
    "        print(\"Bebak: Kwek kwek!\")\n",
    "\n",
    "class Mobil:\n",
    "    def jalankan(self):\n",
    "        print(\"Mobil: Brummm!\")\n",
    "\n",
    "def buat_suara(objek_yang_bisa_bersuara):\n",
    "    try:\n",
    "        objek_yang_bisa_bersuara.bersuara()\n",
    "    except AttributeError:\n",
    "        print(f\"Objek {type(objek_yang_bisa_bersuara).__name__} tidak bisa bersuara.\")\n",
    "\n",
    "if __name__ == \"__main__\":\n",
    "    kucing1 = Kucing()\n",
    "    anjing1 = Anjing()\n",
    "    bebek1 = Bebek()\n",
    "    mobil1 = Mobil()\n",
    "\n",
    "    daftar_objek = [kucing1, anjing1, bebek1, mobil1]\n",
    "    print(\"Demonstrasi Duck Typing:\")\n",
    "    for item in daftar_objek:\n",
    "        buat_suara(item)\n"
   ]
  }
 ],
 "metadata": {
  "kernelspec": {
   "display_name": "base",
   "language": "python",
   "name": "python3"
  },
  "language_info": {
   "codemirror_mode": {
    "name": "ipython",
    "version": 3
   },
   "file_extension": ".py",
   "mimetype": "text/x-python",
   "name": "python",
   "nbconvert_exporter": "python",
   "pygments_lexer": "ipython3",
   "version": "3.12.7"
  }
 },
 "nbformat": 4,
 "nbformat_minor": 5
}
